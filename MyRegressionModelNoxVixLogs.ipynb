{
  "nbformat": 4,
  "nbformat_minor": 0,
  "metadata": {
    "colab": {
      "name": "MyRegressionModelNoxVixLogs.ipynb",
      "provenance": [],
      "collapsed_sections": [],
      "mount_file_id": "1JOE1SIRF3WLJLQv83fSOAa_VUp5PKF9e",
      "authorship_tag": "ABX9TyO1SATPlH4m/3Qls+ClMkxV",
      "include_colab_link": true
    },
    "kernelspec": {
      "name": "python3",
      "display_name": "Python 3"
    },
    "language_info": {
      "name": "python"
    }
  },
  "cells": [
    {
      "cell_type": "markdown",
      "metadata": {
        "id": "view-in-github",
        "colab_type": "text"
      },
      "source": [
        "<a href=\"https://colab.research.google.com/github/dev-albo/jsCourse/blob/master/MyRegressionModelNoxVixLogs.ipynb\" target=\"_parent\"><img src=\"https://colab.research.google.com/assets/colab-badge.svg\" alt=\"Open In Colab\"/></a>"
      ]
    },
    {
      "cell_type": "code",
      "metadata": {
        "id": "vou-erwIPh4h"
      },
      "source": [
        "from math import sqrt\n",
        "import numpy as np\n",
        "from numpy import concatenate\n",
        "import pandas as pd\n",
        "from matplotlib import pyplot\n",
        "from pandas import read_csv\n",
        "from pandas import DataFrame\n",
        "from pandas import concat\n",
        "from sklearn.preprocessing import MinMaxScaler\n",
        "from sklearn.preprocessing import RobustScaler\n",
        "from sklearn.preprocessing import LabelEncoder\n",
        "from sklearn.preprocessing import PowerTransformer\n",
        "from sklearn.preprocessing import QuantileTransformer\n",
        "from sklearn.metrics import mean_squared_error\n",
        "import matplotlib.pyplot as plt\n",
        "from sklearn.neural_network import MLPRegressor\n",
        "\n",
        "\n",
        "from sklearn import svm\n",
        "from sklearn.linear_model import LinearRegression\n",
        "from sklearn.model_selection import GridSearchCV\n",
        "from sklearn.metrics import mean_squared_error as MSE\n",
        "from sklearn.metrics import r2_score\n",
        "from sklearn.model_selection import train_test_split \n",
        "from numpy import mean\n",
        "from numpy import absolute\n",
        "from numpy import loadtxt\n",
        "from sklearn.model_selection import cross_val_score\n",
        "from sklearn.model_selection import KFold\n",
        "from sklearn.pipeline import Pipeline\n",
        "from sklearn.linear_model import HuberRegressor\n",
        "from sklearn.preprocessing import PowerTransformer\n",
        "from sklearn.compose import TransformedTargetRegressor"
      ],
      "execution_count": null,
      "outputs": []
    },
    {
      "cell_type": "code",
      "metadata": {
        "colab": {
          "base_uri": "https://localhost:8080/"
        },
        "id": "-mlzyIsJPqTI",
        "outputId": "cb657879-9fdd-4d61-e90a-a93736cdce76"
      },
      "source": [
        "# Data Preparation\n",
        "# Read dataframe\n",
        "data_path = './drive/My Drive/TesiRiva/lstm.csv'\n",
        "\n",
        "data = pd.read_csv(data_path, header=0)\n",
        "to_drop = ['key (t-1)']\n",
        "\n",
        "data = data.drop(to_drop, axis=1)\n",
        "n_predictors = data.shape[1] - 1\n",
        "print(\"Number of predictors: {} = {} days\".format(n_predictors, n_predictors/4))\n",
        "print(data.columns)\n",
        "data_values = data.values\n",
        "print(type(data_values))\n",
        "print(data_values.shape)\n",
        "\n",
        "data_values = data.values"
      ],
      "execution_count": null,
      "outputs": [
        {
          "output_type": "stream",
          "text": [
            "Number of predictors: 4 = 1.0 days\n",
            "Index(['delta (t-1)', 'return (t-1)', 'ttm (t-1)', 'IV (t-1)', 'IV (t)'], dtype='object')\n",
            "<class 'numpy.ndarray'>\n",
            "(319126, 5)\n"
          ],
          "name": "stdout"
        }
      ]
    },
    {
      "cell_type": "code",
      "metadata": {
        "id": "EtrQOwLtNLad"
      },
      "source": [
        "data_values"
      ],
      "execution_count": null,
      "outputs": []
    },
    {
      "cell_type": "code",
      "metadata": {
        "id": "AyYCWgTrP3l_"
      },
      "source": [
        "X = data_values[:, :-1]\n",
        "y = data_values[:, -1]\n",
        "train_X, test_X, train_y, test_y = train_test_split(X, y, test_size=0.2, random_state=0, shuffle=True)\n",
        "\n",
        "myRegressor =  MLPRegressor(random_state=1, max_iter=500, verbose=1, early_stopping=True, batch_size=128)\n",
        "pipeline = Pipeline(steps=[('normalize', MinMaxScaler()), ('model', myRegressor)])\n"
      ],
      "execution_count": null,
      "outputs": []
    },
    {
      "cell_type": "code",
      "metadata": {
        "id": "CxCU9jo4BRS0"
      },
      "source": [
        "pipeline"
      ],
      "execution_count": null,
      "outputs": []
    },
    {
      "cell_type": "code",
      "metadata": {
        "id": "8D5TUf1OSH1V"
      },
      "source": [
        "grid_params_pipeline = {\n",
        "    'model__hidden_layer_sizes': [ (120,120), (80,80)],\n",
        "    'model__activation': ['relu', 'tanh'],\n",
        "    'model__batch_size': [ 512],\n",
        "    'model__solver': ['sgd', 'adam'],\n",
        "    'model__alpha': [0.001, 0.01],\n",
        "    'model__learning_rate_init' : [0.05, 0.01],\n",
        "    'model__learning_rate' : [0.05, 0.01],\n",
        "    'model__learning_rate': ['adaptive', 'constant'],\n",
        "}\n",
        "\n",
        "grid = GridSearchCV(pipeline, cv=3, n_jobs=-1, param_grid=grid_params_pipeline ,scoring='r2', verbose=2)\n",
        "grid.fit(train_X, train_y)\n",
        "grid.score(test_X, test_y)"
      ],
      "execution_count": null,
      "outputs": []
    },
    {
      "cell_type": "code",
      "metadata": {
        "colab": {
          "base_uri": "https://localhost:8080/"
        },
        "id": "CAx8C-NE5ZKZ",
        "outputId": "0385ff6f-1691-40b8-96b0-4d6f008500fc"
      },
      "source": [
        "print(grid.best_estimator_)\n",
        "print(grid.best_score_)"
      ],
      "execution_count": null,
      "outputs": [
        {
          "output_type": "stream",
          "text": [
            "Pipeline(memory=None,\n",
            "         steps=[('normalize', MinMaxScaler(copy=True, feature_range=(0, 1))),\n",
            "                ('model',\n",
            "                 MLPRegressor(activation='relu', alpha=0.01, batch_size=512,\n",
            "                              beta_1=0.9, beta_2=0.999, early_stopping=True,\n",
            "                              epsilon=1e-08, hidden_layer_sizes=(80, 80),\n",
            "                              learning_rate='adaptive', learning_rate_init=0.01,\n",
            "                              max_fun=15000, max_iter=500, momentum=0.9,\n",
            "                              n_iter_no_change=10, nesterovs_momentum=True,\n",
            "                              power_t=0.5, random_state=1, shuffle=True,\n",
            "                              solver='adam', tol=0.0001,\n",
            "                              validation_fraction=0.1, verbose=1,\n",
            "                              warm_start=False))],\n",
            "         verbose=False)\n",
            "0.8825417308847828\n"
          ],
          "name": "stdout"
        }
      ]
    },
    {
      "cell_type": "code",
      "metadata": {
        "colab": {
          "base_uri": "https://localhost:8080/"
        },
        "id": "tLv3NJYKfkWR",
        "outputId": "4460c2b0-17e1-42dd-a2ba-fb56dd6eca32"
      },
      "source": [
        "import joblib\n",
        "\n",
        "#save your model or results\n",
        "joblib.dump(grid, './drive/My Drive/TesiRiva/model_file_name_last_run_minmax.pkl')"
      ],
      "execution_count": null,
      "outputs": [
        {
          "output_type": "execute_result",
          "data": {
            "text/plain": [
              "['./drive/My Drive/TesiRiva/model_file_name_last_run_minmax.pkl']"
            ]
          },
          "metadata": {
            "tags": []
          },
          "execution_count": 13
        }
      ]
    },
    {
      "cell_type": "code",
      "metadata": {
        "id": "_092GQx62rt3"
      },
      "source": [
        "import joblib\n",
        "\n",
        "best = joblib.load('./drive/My Drive/TesiRiva/model_file_name_last_run_minmax.pkl')"
      ],
      "execution_count": null,
      "outputs": []
    },
    {
      "cell_type": "code",
      "metadata": {
        "colab": {
          "base_uri": "https://localhost:8080/"
        },
        "id": "GBGaG0AF22Jf",
        "outputId": "06cbd86b-a38c-4717-9b16-867012c559ce"
      },
      "source": [
        "print(best.best_estimator_)\n",
        "print(best.best_params_)\n",
        "print(best.best_score_)"
      ],
      "execution_count": null,
      "outputs": [
        {
          "output_type": "stream",
          "text": [
            "Pipeline(memory=None,\n",
            "         steps=[('normalize', MinMaxScaler(copy=True, feature_range=(0, 1))),\n",
            "                ('model',\n",
            "                 MLPRegressor(activation='relu', alpha=0.05, batch_size=512,\n",
            "                              beta_1=0.9, beta_2=0.999, early_stopping=True,\n",
            "                              epsilon=1e-08, hidden_layer_sizes=(80, 80),\n",
            "                              learning_rate='adaptive',\n",
            "                              learning_rate_init=0.001, max_fun=15000,\n",
            "                              max_iter=500, momentum=0.9, n_iter_no_change=10,\n",
            "                              nesterovs_momentum=True, power_t=0.5,\n",
            "                              random_state=1, shuffle=True, solver='sgd',\n",
            "                              tol=0.0001, validation_fraction=0.1, verbose=1,\n",
            "                              warm_start=False))],\n",
            "         verbose=False)\n",
            "{'model__activation': 'relu', 'model__alpha': 0.05, 'model__batch_size': 512, 'model__hidden_layer_sizes': (80, 80), 'model__learning_rate': 'adaptive', 'model__solver': 'sgd'}\n",
            "0.8839967823364976\n"
          ],
          "name": "stdout"
        }
      ]
    }
  ]
}